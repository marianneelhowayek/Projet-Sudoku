{
 "cells": [
  {
   "cell_type": "code",
   "execution_count": 18,
   "id": "27868741",
   "metadata": {},
   "outputs": [],
   "source": [
    "import tkinter as tk\n",
    "\n",
    "def menu():\n",
    "    reussite = tk.Canvas(window, width=400, height=200, bg='#f2f2f2', highlightthickness=0)\n",
    "    reussite.place(relx=0.5, rely=0.4, anchor=\"center\")\n",
    "\n",
    "\n",
    "    sudoku_title = tk.Label(reussite, text=\"bravo tu as reussi en (temps) avec tant d'erreur\", font=(\"cranberry\", 13, \"bold\"), fg=\"#047274\")\n",
    "    sudoku_title.place(relx=0.5, rely=0.3, anchor=\"center\")\n",
    "\n",
    "    sauvegarder = tk.Button(reussite, text=\"Sauvegarder la partie\")\n",
    "    grille = tk.Button(reussite, text=\"Nouvelle grille\")\n",
    "    rejouer = tk.Button(reussite, text=\"Rejouer\")\n",
    "\n",
    "    sauvegarder.place(relx=0.5, rely=0.7, anchor=\"center\")\n",
    "    grille.place(relx=0.5, rely=0.55, anchor=\"center\")\n",
    "    rejouer.place(relx=0.5, rely=0.85, anchor=\"center\")\n",
    "\n",
    "window = tk.Tk()\n",
    "window.geometry(\"650x850\")\n",
    "window.minsize(480, 360)\n",
    "window.config(background='#047274')\n",
    "\n",
    "button = tk.Button(window, borderwidth=0, command=menu, text='finish')\n",
    "button.place(relx=0.3, rely=0.7, anchor=\"center\")\n",
    "\n",
    "window.mainloop()"
   ]
  },
  {
   "cell_type": "code",
   "execution_count": null,
   "id": "0cd2ca1f",
   "metadata": {},
   "outputs": [],
   "source": []
  }
 ],
 "metadata": {
  "kernelspec": {
   "display_name": "Python 3",
   "language": "python",
   "name": "python3"
  },
  "language_info": {
   "codemirror_mode": {
    "name": "ipython",
    "version": 3
   },
   "file_extension": ".py",
   "mimetype": "text/x-python",
   "name": "python",
   "nbconvert_exporter": "python",
   "pygments_lexer": "ipython3",
   "version": "3.12.6"
  }
 },
 "nbformat": 4,
 "nbformat_minor": 5
}
