{
 "cells": [
  {
   "cell_type": "code",
   "execution_count": 6,
   "metadata": {},
   "outputs": [],
   "source": [
    "import tkinter as tk\n",
    "\n",
    "def derniere_page():\n",
    "    window=tk.Tk()\n",
    "    window.geometry(\"550x750\")\n",
    "    window.minsize(480,360)\n",
    "    window.config(background='#047274')\n",
    "    window.iconbitmap(\"logo.ico\")\n",
    "    \n",
    "    \n",
    "\n",
    "    canva = tk.Canvas(window, width=450, height=600, bg='#f2f2f2')\n",
    "    sudoku_title = tk.Label(canva, text=\"SUDOKU\", font = (\"cranberry\", \"30\", \"bold\"), fg= \"#047274\")\n",
    "    message=tk.Label(text=\"Bravo ! Vous avez réussi cette grille en (temps) avec tant de fautes\")\n",
    "\n",
    "    sauvegarder=tk.Button(text=\"Sauvegarder la partie\")\n",
    "    nouvelle_grille=tk.Button(text=\"Nouvelle grille\")\n",
    "    grille_sauvegardee=tk.Button(text=\"Refaire une grille\")\n",
    "\n",
    "\n",
    "    canva.place(relx=0.1, rely=0.1)\n",
    "    sudoku_title.place(relx=0.5, rely=0.1, anchor=\"center\")\n",
    "    message.place(relx=0.5,rely=0.5,anchor=\"center\")\n",
    "    sauvegarder.place(relx=0.1,rely=0.8)\n",
    "    nouvelle_grille.place(relx=0.4,rely=0.8)\n",
    "    grille_sauvegardee.place(relx=0.6,rely=0.8)\n",
    "\n",
    "\n",
    "    window.title(\"Sudoku\")\n",
    "    \n",
    "    \n",
    "\n",
    "\n",
    "\n",
    "\n",
    "\n",
    "    window.mainloop()\n",
    "\n",
    "derniere_page()"
   ]
  }
 ],
 "metadata": {
  "kernelspec": {
   "display_name": "Python 3",
   "language": "python",
   "name": "python3"
  },
  "language_info": {
   "codemirror_mode": {
    "name": "ipython",
    "version": 3
   },
   "file_extension": ".py",
   "mimetype": "text/x-python",
   "name": "python",
   "nbconvert_exporter": "python",
   "pygments_lexer": "ipython3",
   "version": "3.12.8"
  }
 },
 "nbformat": 4,
 "nbformat_minor": 2
}
