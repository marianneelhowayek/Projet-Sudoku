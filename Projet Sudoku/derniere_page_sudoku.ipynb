{
 "cells": [
  {
   "cell_type": "code",
   "execution_count": 3,
   "metadata": {},
   "outputs": [],
   "source": [
    "import tkinter as tk\n",
    "\n",
    "def derniere_page():\n",
    "    window=tk.Tk()\n",
    "    window.geometry(\"550x750\")\n",
    "    window.minsize(480,360)\n",
    "    window.config(background='#047274')\n",
    "    window.iconbitmap(\"logo.ico\")\n",
    "    \n",
    "    \n",
    "\n",
    "    canva = tk.Canvas(window, width=450, height=600, bg='#f2f2f2')\n",
    "    sudoku_title = tk.Label(canva, text=\"SUDOKU\", font = (\"cranberry\", \"30\", \"bold\"), fg= \"#047274\")\n",
    "    message=tk.Label(text=\"Bravo ! Vous avez réussi cette grille en (temps) avec tant de fautes\")\n",
    "\n",
    "    sauvegarder=tk.Button(text=\"Sauvegarder la partie\")\n",
    "    nouvelle_grille=tk.Button(text=\"Nouvelle grille\")\n",
    "    grille_sauvegardee=tk.Button(text=\"Refaire une grille\")\n",
    "\n",
    "\n",
    "    canva.place(relx=0.5, rely=0.4, anchor=\"center\")\n",
    "    sudoku_title.place(relx=0.5, rely=0.1, anchor=\"center\")\n",
    "    message.place(relx=0.5, rely=0.45, anchor=\"center\")\n",
    "    \n",
    "    sauvegarder.place(relx=0.3, rely=0.7, anchor=\"center\")  \n",
    "    nouvelle_grille.place(relx=0.5, rely=0.7, anchor=\"center\")  \n",
    "    grille_sauvegardee.place(relx=0.7, rely=0.7, anchor=\"center\")\n",
    "\n",
    "    window.title(\"Sudoku\")\n",
    "    \n",
    "    \n",
    "\n",
    "\n",
    "\n",
    "\n",
    "\n",
    "    window.mainloop()\n",
    "\n",
    "derniere_page()"
   ]
  },
  {
   "cell_type": "code",
   "execution_count": null,
   "metadata": {},
   "outputs": [],
   "source": []
  }
 ],
 "metadata": {
  "kernelspec": {
   "display_name": "Python 3",
   "language": "python",
   "name": "python3"
  },
  "language_info": {
   "codemirror_mode": {
    "name": "ipython",
    "version": 3
   },
   "file_extension": ".py",
   "mimetype": "text/x-python",
   "name": "python",
   "nbconvert_exporter": "python",
   "pygments_lexer": "ipython3",
   "version": "3.12.6"
  }
 },
 "nbformat": 4,
 "nbformat_minor": 2
}
