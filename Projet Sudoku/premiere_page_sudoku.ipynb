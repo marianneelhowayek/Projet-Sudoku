{
 "cells": [
  {
   "cell_type": "code",
   "execution_count": 1,
   "id": "8a8b97fa",
   "metadata": {},
   "outputs": [],
   "source": [
    "import tkinter as tk\n",
    "\n",
    "def premiere_page():\n",
    "    window.geometry(\"550x750\")\n",
    "    window.minsize(480,360)\n",
    "    window.config(background='#047274')\n",
    "    window.iconbitmap(\"logo.ico\")\n",
    "\n",
    "    global canva, sudoku_title, rules, astuce, version, goodluck\n",
    "\n",
    "    canva = tk.Canvas(window, width=460, height=650, bg='#f2f2f2')\n",
    "\n",
    "    sudoku_title = tk.Label(canva, text=\"SUDOKU\", font = (\"Tekton Pro\", \"50\", \"bold\"), fg= \"#047274\")\n",
    "    goodluck = tk.Label(canva, text= \"bonne chance!\", font = (\"Tekton Pro\", \"15\", \"bold\"), fg= \"#047274\")\n",
    "\n",
    "    regles = \"Le but du jeu est de remplir des cases\\n avec des chiffres\" \\\n",
    "    \"allant de 1 à 9 en veillant\\n toujours à ce qu'un même chiffre ne figure\\n\" \\\n",
    "    \"qu'une seule fois par colonne, par ligne,\\n et par carré de neuf cases 9x9.\"\n",
    "    rules = tk.Label(canva, text= regles, font = (\"Tekton Pro\", \"15\", \"bold\"), fg= \"black\")\n",
    "    \n",
    "    astuce = tk.Label(canva, text= \"🎯 Astuce : Utilisez les touches 1 à 9 pour remplir les cases !\",\n",
    "                      font = (\"Tekton Pro\", \"10\"), fg= \"black\")\n",
    "    version = tk.Label(canva, text= \"version 1.5.2\", font = (\"Tekton Pro\", \"12\"), fg= \"black\")\n",
    "\n",
    "    canva.place(relx=0.5, rely=0.07, anchor=\"n\")\n",
    "    sudoku_title.place(relx=0.5, rely=0.2, anchor=\"center\")\n",
    "    goodluck.place(relx=0.5, rely=0.5, anchor=\"center\")\n",
    "    rules.place(relx=0.5, rely=0.65, anchor=\"center\")\n",
    "    astuce.place(relx= 0.5, rely= 0.8, anchor= \"center\")\n",
    "    version.place(relx=0.5, rely=0.9, anchor=\"center\")\n",
    "\n",
    "window = tk.Tk()\n",
    "window.title(\"Sudoku\")\n",
    "window.resizable(False, False)\n",
    "\n",
    "premiere_page()\n",
    "\n",
    "play = tk.PhotoImage(file= \"tools/play.png\")\n",
    "play_button = tk.Button(window, image= play, borderwidth= 0)\n",
    "play_button.place(relx=0.5, rely=0.39, anchor=\"center\")\n",
    "\n",
    "window.mainloop()"
   ]
  },
  {
   "cell_type": "code",
   "execution_count": null,
   "id": "5220d4cf",
   "metadata": {},
   "outputs": [],
   "source": []
  }
 ],
 "metadata": {
  "kernelspec": {
   "display_name": "base",
   "language": "python",
   "name": "python3"
  },
  "language_info": {
   "codemirror_mode": {
    "name": "ipython",
    "version": 3
   },
   "file_extension": ".py",
   "mimetype": "text/x-python",
   "name": "python",
   "nbconvert_exporter": "python",
   "pygments_lexer": "ipython3",
   "version": "3.12.3"
  }
 },
 "nbformat": 4,
 "nbformat_minor": 5
}
