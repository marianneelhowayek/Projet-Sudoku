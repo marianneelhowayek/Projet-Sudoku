{
 "cells": [
  {
   "cell_type": "code",
   "execution_count": 3,
   "id": "8a8b97fa",
   "metadata": {},
   "outputs": [],
   "source": [
    "import tkinter as tk\n",
    "\n",
    "def premiere_page():\n",
    "    window.geometry(\"550x750\")\n",
    "    window.minsize(480,360)\n",
    "    window.config(background='#047274')\n",
    "    window.iconbitmap(\"logo.ico\")\n",
    "    \n",
    "    easy_button=tk.Button(text=\"Easy\")\n",
    "    easy_button.place(relx=0.1,rely=0.8,anchor=\"sw\")\n",
    "    \n",
    "    medium_button=tk.Button(text=\"Medium\")\n",
    "    medium_button.place(relx=0.3,rely=0.8,anchor=\"center\")\n",
    "\n",
    "    hard_button=tk.Button(text=\"Hard\")\n",
    "    hard_button.place(relx=0.5,rely=0.8,anchor=\"se\")\n",
    "\n",
    "    canva = tk.Canvas(window, width=450, height=600, bg='#f2f2f2')\n",
    "    \n",
    "    sudoku_title = tk.Label(canva, text=\"SUDOKU\", font = (\"cranberry\", \"30\", \"bold\"), fg= \"#047274\")\n",
    "    regles = \"Le but du jeu est de remplir\\n des cases avec des chiffres\\n\" \\\n",
    "    \"allant de 1 à 9 en veillant\\n toujours à ce qu'un même\\n chiffre ne figure\\n\" \\\n",
    "    \"qu'une seule fois par colonne,\\n une seule fois par ligne,\\n et une seule fois par carré\\n\" \\\n",
    "    \"de neuf cases.\"\n",
    "    rules = tk.Label(canva, text= regles, font = (\"cranberry\", \"16\"), fg= \"black\")\n",
    "\n",
    "    canva.place(relx=0.1, rely=0.1)\n",
    "    sudoku_title.place(relx=0.5, rely=0.2, anchor=\"center\")\n",
    "    rules.place(relx=0.5, rely=0.6, anchor=\"center\")\n",
    "\n",
    "window = tk.Tk()\n",
    "window.title(\"Sudoku\")\n",
    "\n",
    "premiere_page()\n",
    "\n",
    "play = tk.PhotoImage(file= \"tools/play.png\") # à ajouter dans la fonction => problème !\n",
    "play_button = tk.Button(window, image= play, borderwidth= 0)\n",
    "play_button.place(relx=0.52, rely=0.36, anchor=\"center\")\n",
    "\n",
    "window.mainloop()"
   ]
  },
  {
   "cell_type": "code",
   "execution_count": null,
   "id": "5220d4cf",
   "metadata": {},
   "outputs": [],
   "source": []
  }
 ],
 "metadata": {
  "kernelspec": {
   "display_name": "base",
   "language": "python",
   "name": "python3"
  },
  "language_info": {
   "codemirror_mode": {
    "name": "ipython",
    "version": 3
   },
   "file_extension": ".py",
   "mimetype": "text/x-python",
   "name": "python",
   "nbconvert_exporter": "python",
   "pygments_lexer": "ipython3",
   "version": "3.12.3"
  }
 },
 "nbformat": 4,
 "nbformat_minor": 5
}
