{
 "cells": [
  {
   "cell_type": "code",
   "execution_count": null,
   "metadata": {},
   "outputs": [],
   "source": [
    "# SUDOKU PROJECT\n",
    "\n",
    "# test M\n",
    "# test 2\n",
    "#test L\n",
    "#testJ\n",
    "#testL2"
   ]
  }
 ],
 "metadata": {
  "language_info": {
   "name": "python"
  }
 },
 "nbformat": 4,
 "nbformat_minor": 2
}
