{
 "cells": [
  {
   "cell_type": "code",
   "execution_count": 24,
   "metadata": {},
   "outputs": [],
   "source": [
    "import tkinter as tk\n",
    "from PIL import Image, ImageTk\n",
    "\n",
    "window = tk.Tk()\n",
    "window.title(\"Sudoku\")\n",
    "icon = ImageTk.PhotoImage(file= 'icon.png')\n",
    "window.iconphoto(True, icon)\n",
    "\n",
    "canvas = tk.Canvas(window, bg=\"white\", height=550, width=550)\n",
    "canvas.grid(row= 1, column= 1)\n",
    "\n",
    "case_taille = 50\n",
    "\n",
    "for ligne in range(9):\n",
    "    for colonne in range(9):\n",
    "        for case in range(9):\n",
    "            x1 = 50 + colonne * case_taille\n",
    "            y1 = 50 + ligne * case_taille\n",
    "            x2 = x1 + case_taille\n",
    "            y2 = y1 + case_taille\n",
    "            rect = canvas.create_rectangle(x1, y1, x2, y2, fill=\"cornflower blue\", outline= \"black\", width= 1)\n",
    "\n",
    "window.mainloop()"
   ]
  },
  {
   "cell_type": "code",
   "execution_count": null,
   "metadata": {},
   "outputs": [],
   "source": []
  }
 ],
 "metadata": {
  "kernelspec": {
   "display_name": "base",
   "language": "python",
   "name": "python3"
  },
  "language_info": {
   "codemirror_mode": {
    "name": "ipython",
    "version": 3
   },
   "file_extension": ".py",
   "mimetype": "text/x-python",
   "name": "python",
   "nbconvert_exporter": "python",
   "pygments_lexer": "ipython3",
   "version": "3.12.3"
  }
 },
 "nbformat": 4,
 "nbformat_minor": 2
}
