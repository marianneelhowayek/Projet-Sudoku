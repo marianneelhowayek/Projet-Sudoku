{
 "cells": [
  {
   "cell_type": "code",
   "execution_count": null,
   "metadata": {},
   "outputs": [],
   "source": [
    "import tkinter as tk\n",
    "\n",
    "window = tk.Tk()\n",
    "window.title(\"Sudoku\")\n",
    "icon = tk.PhotoImage(file= \"Icon.png\")\n",
    "window.iconphoto(True, icon)\n",
    "\n",
    "import tkinter as tk\n",
    "\n",
    "canvas = tk.Canvas(window, width=750, height=750, bg=\"white\")\n",
    "canvas.grid()\n",
    "\n",
    "case_taille = 50\n",
    "sudoku_taille = 9 * case_taille\n",
    "\n",
    "for ligne in range(10): # 9 : nb de lignes\n",
    "    if ligne % 3 == 0:\n",
    "        epaisseur = 3\n",
    "    else:\n",
    "        epaisseur = 1\n",
    "    canvas.create_line(50, ligne * case_taille + 50, sudoku_taille + 50, ligne * case_taille + 50, width= epaisseur)\n",
    "\n",
    "for col in range(10): # 9 : nb de colonne\n",
    "    if col % 3 == 0:\n",
    "        epaisseur = 3\n",
    "    else:\n",
    "        epaisseur = 1\n",
    "    canvas.create_line(col * case_taille + 50, 50, col * case_taille + 50, sudoku_taille + 50, width= epaisseur)\n",
    "def lignes_uniques(grille):\n",
    "    for ligne in grille:  \n",
    "        deja_vus = set()  \n",
    "        for nombre in ligne:  \n",
    "            if nombre in deja_vus:  \n",
    "                return False  \n",
    "            deja_vus.add(nombre)  \n",
    "    return True  \n",
    "def colonnes_uniques(grille): \n",
    "    for col in range(len(grille[0])): \n",
    "        deja_vus = set()\n",
    "        for ligne in grille: \n",
    "            if ligne[col] in deja_vus: \n",
    "                return False \n",
    "            deja_vus.add(ligne[col])\n",
    "    return True\n",
    "def carres_uniques(grille): \n",
    "    taille = 3\n",
    "    for i in range(0, len(grille), taille):\n",
    "        for j in range(0, len(grille), taille):\n",
    "            deja_vus = set()\n",
    "            for k in range(taille):\n",
    "                for l in range(taille):\n",
    "                    nombre = grille[i + k][j + l]\n",
    "                    if nombre in deja_vus:\n",
    "                        return False\n",
    "                    deja_vus.add(nombre)\n",
    "    return True\n",
    "window.mainloop()"
   ]
  },
  {
   "cell_type": "code",
   "execution_count": null,
   "metadata": {},
   "outputs": [],
   "source": []
  }
 ],
 "metadata": {
  "kernelspec": {
   "display_name": "base",
   "language": "python",
   "name": "python3"
  },
  "language_info": {
   "codemirror_mode": {
    "name": "ipython",
    "version": 3
   },
   "file_extension": ".py",
   "mimetype": "text/x-python",
   "name": "python",
   "nbconvert_exporter": "python",
   "pygments_lexer": "ipython3",
   "version": "3.12.3"
  }
 },
 "nbformat": 4,
 "nbformat_minor": 2
}
