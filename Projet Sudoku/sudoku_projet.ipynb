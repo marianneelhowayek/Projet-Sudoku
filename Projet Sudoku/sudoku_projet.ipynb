{
 "cells": [
  {
   "cell_type": "code",
   "execution_count": null,
   "metadata": {},
   "outputs": [],
   "source": [
    "import tkinter as tk\n",
    "# from PIL import Image, ImageTk\n",
    "\n",
    "window = tk.Tk()\n",
    "window.title(\"Sudoku\")\n",
    "# icon = ImageTk.PhotoImage(file= 'icon.png')\n",
    "# window.iconphoto(True, icon)\n",
    "\n",
    "import tkinter as tk\n",
    "\n",
    "canvas = tk.Canvas(window, width=750, height=750, bg=\"white\")\n",
    "canvas.grid()\n",
    "\n",
    "case_taille = 50\n",
    "sudoku_taille = 9 * case_taille\n",
    "\n",
    "for ligne in range(10): # 9 : nb de lignes\n",
    "    if ligne % 3 == 0:\n",
    "        epaisseur = 3\n",
    "    else:\n",
    "        epaisseur = 1\n",
    "    canvas.create_line(50, ligne * case_taille + 50, sudoku_taille + 50, ligne * case_taille + 50, width= epaisseur)\n",
    "\n",
    "for col in range(10): # 9 : nb de colonne\n",
    "    if col % 3 == 0:\n",
    "        epaisseur = 3\n",
    "    else:\n",
    "        epaisseur = 1\n",
    "    canvas.create_line(col * case_taille + 50, 50, col * case_taille + 50, sudoku_taille + 50, width= epaisseur)\n",
    "\n",
    "window.mainloop()"
   ]
  },
  {
   "cell_type": "code",
   "execution_count": null,
   "metadata": {},
   "outputs": [],
   "source": []
  }
 ],
 "metadata": {
  "kernelspec": {
   "display_name": "base",
   "language": "python",
   "name": "python3"
  },
  "language_info": {
   "codemirror_mode": {
    "name": "ipython",
    "version": 3
   },
   "file_extension": ".py",
   "mimetype": "text/x-python",
   "name": "python",
   "nbconvert_exporter": "python",
   "pygments_lexer": "ipython3",
   "version": "3.12.4"
  }
 },
 "nbformat": 4,
 "nbformat_minor": 2
}
