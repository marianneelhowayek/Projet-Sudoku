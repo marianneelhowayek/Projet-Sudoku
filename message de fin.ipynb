{
 "cells": [
  {
   "cell_type": "code",
   "execution_count": 43,
   "id": "022d6934",
   "metadata": {},
   "outputs": [],
   "source": [
    "import tkinter as tk\n",
    "\n",
    "def finish() :\n",
    "    \n",
    "\n",
    "    reussite = tk.Canvas(window, width=400, height=200, bg='#f2f2f2')\n",
    "\n",
    "    sudoku_title = tk.Label(reussite, text=\"bravo tu as reussi en (temps) avec tant d'erreur\", font = (\"cranberry\", \"13\", \"bold\"), fg= \"#047274\")\n",
    "    sudoku_title.place(relx=0.5, rely=0.5, anchor=\"center\")\n",
    "    reussite.place(relx=0.5, rely=0.4, anchor=\"center\")\n",
    "\n",
    "window = tk.Tk()\n",
    "window.geometry(\"650x850\")\n",
    "window.minsize(480,360)\n",
    "window.config(background='#047274')\n",
    "\n",
    "button = tk.Button(window, borderwidth= 0, command=finish,text='finish')\n",
    "\n",
    "button.place(relx=0.28, rely=0.12)\n",
    "\n",
    "window.mainloop()"
   ]
  },
  {
   "cell_type": "code",
   "execution_count": null,
   "id": "27868741",
   "metadata": {},
   "outputs": [],
   "source": []
  }
 ],
 "metadata": {
  "kernelspec": {
   "display_name": "Python 3",
   "language": "python",
   "name": "python3"
  },
  "language_info": {
   "codemirror_mode": {
    "name": "ipython",
    "version": 3
   },
   "file_extension": ".py",
   "mimetype": "text/x-python",
   "name": "python",
   "nbconvert_exporter": "python",
   "pygments_lexer": "ipython3",
   "version": "3.12.6"
  }
 },
 "nbformat": 4,
 "nbformat_minor": 5
}
